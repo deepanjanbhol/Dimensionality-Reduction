{
 "cells": [
  {
   "cell_type": "markdown",
   "metadata": {
    "collapsed": true
   },
   "source": [
    "# Assignment 10: Dimensionality Reduction"
   ]
  },
  {
   "cell_type": "markdown",
   "metadata": {
    "collapsed": true
   },
   "source": [
    "Dataset(s) needed: MNIST (\"Modified National Institute of Standards and Technology\") dataset."
   ]
  },
  {
   "cell_type": "code",
   "execution_count": 4,
   "metadata": {},
   "outputs": [
    {
     "name": "stdout",
     "output_type": "stream",
     "text": [
      "(70000, 784) (70000,)\n",
      "Size of the dataframe: (70000, 786)\n"
     ]
    },
    {
     "data": {
      "text/plain": [
       "<Figure size 432x288 with 0 Axes>"
      ]
     },
     "metadata": {},
     "output_type": "display_data"
    },
    {
     "data": {
      "image/png": "[encoded data removed]",
      "text/plain": [
       "<Figure size 1152x504 with 15 Axes>"
      ]
     },
     "metadata": {},
     "output_type": "display_data"
    }
   ],
   "source": [
    "#Load the MNIST dataset\n",
    "import matplotlib.pyplot as plt\n",
    "import warnings\n",
    "%matplotlib inline\n",
    "warnings.filterwarnings(\"ignore\")\n",
    "import pandas as pd\n",
    "from sklearn import (\n",
    "    ensemble,\n",
    "    model_selection,    \n",
    "    preprocessing,\n",
    "    tree,\n",
    ")\n",
    "from sklearn.metrics import (\n",
    "    auc,\n",
    "    confusion_matrix,\n",
    "    roc_auc_score,\n",
    "    roc_curve,\n",
    ")\n",
    "from sklearn.model_selection import (\n",
    "    train_test_split,\n",
    "    StratifiedKFold,\n",
    ")\n",
    "\n",
    "import pandas_profiling\n",
    "import numpy as np\n",
    "\n",
    "from sklearn.model_selection import train_test_split\n",
    "from sklearn.datasets import fetch_mldata\n",
    "\n",
    "mnist = fetch_mldata('MNIST original')\n",
    "X = mnist.data / 255.0\n",
    "y = mnist.target\n",
    "print(X.shape, y.shape)\n",
    "\n",
    "\n",
    "#Convert to dataframe\n",
    "feat_cols = [ 'pixel'+str(i) for i in range(X.shape[1]) ]\n",
    "df = pd.DataFrame(X,columns=feat_cols)\n",
    "df['y'] = y\n",
    "df['label'] = df['y'].apply(lambda i: str(i))\n",
    "\n",
    "X, y = None, None\n",
    "print('Size of the dataframe: {}'.format(df.shape))\n",
    "df.head(20)\n",
    "\n",
    "\n",
    "# For reproducability of the results\n",
    "np.random.seed(42)\n",
    "rndperm = np.random.permutation(df.shape[0])\n",
    "plt.gray()\n",
    "fig = plt.figure( figsize=(16,7) )\n",
    "for i in range(0,15):\n",
    "    ax = fig.add_subplot(3,5,i+1, title=\"Digit: {}\".format(str(df.loc[rndperm[i],'label'])) )\n",
    "    ax.matshow(df.loc[rndperm[i],feat_cols].values.reshape((28,28)).astype(float))\n",
    "plt.show()"
   ]
  },
  {
   "cell_type": "markdown",
   "metadata": {
    "collapsed": true
   },
   "source": [
    "<h3> Q.1. Split the data into a training set and a test set (take the first 60,000 instances for training, and the remaining 10,000 for testing).\n",
    "</h3>"
   ]
  },
  {
   "cell_type": "code",
   "execution_count": 5,
   "metadata": {},
   "outputs": [
    {
     "name": "stdout",
     "output_type": "stream",
     "text": [
      "(60000, 785)\n",
      "(10000, 785)\n"
     ]
    }
   ],
   "source": [
    "#TODO\n",
    "#train_x, test_x, train_y, test_y  = train_test_split(X, y, test_size=0.1428, shuffle=False)\n",
    "df.head(50)\n",
    "X = df.loc[:, df.columns != 'y']\n",
    "y = df.loc[:, df.columns == 'y']\n",
    "X_train, X_test, y_train, y_test = train_test_split(X, y, test_size=0.142847, shuffle=False)\n",
    "print(X_train.shape)\n",
    "print(X_test.shape)"
   ]
  },
  {
   "cell_type": "markdown",
   "metadata": {},
   "source": [
    "<h3> Q.2. Train a Logistic Regression classifier on the dataset and see how long it takes.</h3>"
   ]
  },
  {
   "cell_type": "code",
   "execution_count": 6,
   "metadata": {},
   "outputs": [
    {
     "name": "stdout",
     "output_type": "stream",
     "text": [
      "Coef:  [[ 0.          0.          0.         ...  0.          0.\n",
      "  -5.4163482 ]\n",
      " [ 0.          0.          0.         ...  0.          0.\n",
      "  -5.55677728]\n",
      " [ 0.          0.          0.         ...  0.          0.\n",
      "  -1.13546235]\n",
      " ...\n",
      " [ 0.          0.          0.         ...  0.          0.\n",
      "   0.4967135 ]\n",
      " [ 0.          0.          0.         ...  0.          0.\n",
      "   3.19663485]\n",
      " [ 0.          0.          0.         ...  0.          0.\n",
      "   8.70579556]]\n",
      "Intercept:  [  1.0314025    7.56964805  -0.98237954  -2.31702984   1.24702882\n",
      "  -0.53011472 -10.74983206  -3.60497315 -30.33975802 -72.44295616]\n",
      "Training took 65.26s\n"
     ]
    }
   ],
   "source": [
    "from sklearn.linear_model import LogisticRegression\n",
    "import time\n",
    "\n",
    "# default solver is incredibly slow which is why it was changed to 'lbfgs'\n",
    "log_clf = LogisticRegression(solver = 'lbfgs')\n",
    "start_time = time.time()\n",
    "log_clf.fit(X_train,y_train)\n",
    "print(\"Coef: \", log_clf.coef_)\n",
    "print(\"Intercept: \",log_clf.intercept_)\n",
    "end_time = time.time()\n",
    "\n",
    "print(\"Training took {:.2f}s\".format(end_time - start_time))"
   ]
  },
  {
   "cell_type": "markdown",
   "metadata": {},
   "source": [
    "<h3> Q.3. Evaluate the resulting model on the test set.</h3>"
   ]
  },
  {
   "cell_type": "code",
   "execution_count": 43,
   "metadata": {},
   "outputs": [
    {
     "name": "stdout",
     "output_type": "stream",
     "text": [
      "Accuracy: 0.9684\n"
     ]
    }
   ],
   "source": [
    "from sklearn.metrics import accuracy_score\n",
    "from sklearn import metrics\n",
    "\n",
    "y_pred=log_clf.predict(X_test)\n",
    "log_clf.score(X_test, y_test)\n",
    "print('Accuracy: ' + str(accuracy_score(y_test, y_pred)))\n"
   ]
  },
  {
   "cell_type": "markdown",
   "metadata": {
    "collapsed": true
   },
   "source": [
    "<h3> Q.4. Use PCA to reduce the dataset's dimensionality, with an explained variance ratio of 95%.</h3>"
   ]
  },
  {
   "cell_type": "code",
   "execution_count": 3,
   "metadata": {},
   "outputs": [
    {
     "name": "stdout",
     "output_type": "stream",
     "text": [
      "(60000, 331)\n",
      "(10000, 331)\n"
     ]
    }
   ],
   "source": [
    "from sklearn.decomposition import PCA\n",
    "from sklearn.preprocessing import StandardScaler\n",
    "\n",
    "# Make an instance of the Model\n",
    "pca = PCA(.95)\n",
    "\n",
    "# Standardise the data\n",
    "scaler = StandardScaler()\n",
    "\n",
    "# Fit on training set only.\n",
    "scaler.fit(X_train)\n",
    "\n",
    "# Apply transform to both the training set and the test set.\n",
    "X_train = scaler.transform(X_train)\n",
    "X_test = scaler.transform(X_test)\n",
    "\n",
    "pca.fit(X_train)\n",
    "X_train = pca.transform(X_train)\n",
    "X_test = pca.transform(X_test)\n",
    "\n",
    "print(X_train.shape)\n",
    "print(X_test.shape)"
   ]
  },
  {
   "cell_type": "markdown",
   "metadata": {
    "collapsed": true
   },
   "source": [
    "<h3> Q.5. Train a new Logistic Regression classifier on the reduced dataset and see how long it takes. Was training much faster? Explain your results.\n",
    "</h3>"
   ]
  },
  {
   "cell_type": "code",
   "execution_count": 50,
   "metadata": {},
   "outputs": [
    {
     "name": "stdout",
     "output_type": "stream",
     "text": [
      "Coef:  [[ 0.93828683 -0.60685083  0.14082851 ... -0.23230136  0.1120174\n",
      "   0.14933885]\n",
      " [-1.07545448 -0.92789515  1.15510612 ... -0.37206927  0.06447219\n",
      "  -0.30371542]\n",
      " [ 0.10457117 -0.24657088  0.81812712 ... -0.10516701 -0.08641928\n",
      "   0.28919301]\n",
      " ...\n",
      " [-0.74624089  0.68201479 -1.023926   ... -0.07712653 -0.04804423\n",
      "  -0.20731311]\n",
      " [-0.39837398 -0.08318566  0.08835431 ...  0.03197928 -0.03566334\n",
      "  -0.1722748 ]\n",
      " [-1.01549208  0.98831247 -1.70948876 ...  0.34057328  0.24667098\n",
      "  -0.11314301]]\n",
      "Intercept:  [-15.73478696 -22.63490642  -8.36720268  -8.43641777  -9.7264175\n",
      "  -7.33599396 -13.92899002 -11.99327362 -13.59840342 -26.77630772]\n",
      "Training took 33.79s\n"
     ]
    }
   ],
   "source": [
    "start_time = time.time()\n",
    "\n",
    "# default solver is incredibly slow which is why it was changed to 'lbfgs'\n",
    "logisticRegr = LogisticRegression(solver = 'lbfgs')\n",
    "logisticRegr.fit(X_train, y_train)\n",
    "\n",
    "print(\"Coef: \", logisticRegr.coef_)\n",
    "print(\"Intercept: \",logisticRegr.intercept_)\n",
    "end_time = time.time()\n",
    "\n",
    "print(\"Training took {:.2f}s\".format(end_time - start_time))\n",
    "\n",
    "# Training was faster in time. On average I am seeing huge improvements in performance."
   ]
  },
  {
   "cell_type": "markdown",
   "metadata": {},
   "source": [
    "<h3> Q.6. Evaluate the new classifier on the test set: how does it compare to the previous classifier? Discuss the speed / accuracy trade-off and in which case you'd prefer a very slight drop in model performance for a x-time speedup in training.\n",
    "</h3>"
   ]
  },
  {
   "cell_type": "code",
   "execution_count": 52,
   "metadata": {},
   "outputs": [
    {
     "name": "stdout",
     "output_type": "stream",
     "text": [
      "Accuracy: 0.9656\n"
     ]
    },
    {
     "data": {
      "text/plain": [
       "331"
      ]
     },
     "execution_count": 52,
     "metadata": {},
     "output_type": "execute_result"
    }
   ],
   "source": [
    "y_pred=logisticRegr.predict(X_test)\n",
    "logisticRegr.score(X_test, y_test)\n",
    "print('Accuracy: ' + str(accuracy_score(y_test, y_pred)))\n",
    "\n",
    "print('Number of PCA components: ' + len(pca.components_))\n",
    "\n",
    "# Number of components: 331 for variance retained: 95%\n",
    "# The accuracy dropped a little. But the speed of execution was very high.\n",
    "# Especially, with these kind of situations where mumber of features were so high, that execution was taking a very long time,\n",
    "# it makes sense to perform PCA with a known variance retained.\n",
    "# Also for quick model visualization and model explainabity, PCA is preferred."
   ]
  },
  {
   "cell_type": "markdown",
   "metadata": {},
   "source": [
    "<h3> Q.7. Create a new text cell in your Notebook: Complete a 50-100 word summary \n",
    "    (or short description of your thinking in applying this week's learning to the solution) \n",
    "     of your experience in this assignment. Include:\n",
    "<br>                                                                    \n",
    "What was your incoming experience with this model, if any?\n",
    "what steps you took, what obstacles you encountered.\n",
    "how you link this exercise to real-world, machine learning problem-solving. (What steps were missing? What else do you need to learn?)\n",
    "This summary allows your instructor to know how you are doing and allot points for your effort in thinking and planning, and making connections to real-world work.\n",
    "</h3>"
   ]
  },
  {
   "cell_type": "markdown",
   "metadata": {
    "collapsed": true
   },
   "source": [
    "PCA was very interesting exercise to play with. The dataset was huge and I noticed considerable amount of execution time.\n",
    "Overall the assignment was designed well for us to understand the usage of PCA and when to use it.\n",
    "I will play with different values of variance retained and see how that affects the performance of the model.\n",
    "\n",
    "I can see a lot of real world applications for this. Model explainability and visualization are two most important use cases of PCA. And it makes sense to use it to get these benefits out of the model."
   ]
  }
 ],
 "metadata": {
  "kernelspec": {
   "display_name": "Python 3 [3.6]",
   "language": "python",
   "name": "python3"
  },
  "language_info": {
   "codemirror_mode": {
    "name": "ipython",
    "version": 3
   },
   "file_extension": ".py",
   "mimetype": "text/x-python",
   "name": "python",
   "nbconvert_exporter": "python",
   "pygments_lexer": "ipython3",
   "version": "3.6.4"
  }
 },
 "nbformat": 4,
 "nbformat_minor": 2
}
